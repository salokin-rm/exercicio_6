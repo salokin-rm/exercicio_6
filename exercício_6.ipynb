{
 "cells": [
  {
   "cell_type": "markdown",
   "id": "54133822",
   "metadata": {},
   "source": [
    "### Determine o n-ésimo termo e a soma dos termos de uma progressão aritmética onde o primeiro termo, a razão e a posição desejada do termo da p.a. são dados pelo usuário."
   ]
  },
  {
   "cell_type": "code",
   "execution_count": 11,
   "id": "fac6f529",
   "metadata": {},
   "outputs": [
    {
     "name": "stdout",
     "output_type": "stream",
     "text": [
      "Digite o primeiro termo 'n' de uma progressão aritmética:2\n",
      "2.0\n",
      "\n",
      "Digite a razão da progressão aritmética:2\n",
      "2.0\n",
      "\n",
      "Digite a n-ésima posição na série do termo desejado:2\n",
      "2.0\n",
      "\n",
      "O 2.0 º termo da progressão aritmética com termo inicial igual a 2.0  e razão igual a 2.0 é: 4.0 .\n",
      "A soma dos termos da P.A. até (incluso) o número 4.0 é igual a: 6.0 .\n"
     ]
    }
   ],
   "source": [
    "\"\"\"\n",
    "Nome: Progressão Aritmética\n",
    "Autor: Nikolas\n",
    "Data: 26/06/2023\n",
    "Versão: 0.0.1\n",
    "\"\"\"\n",
    "\n",
    "### Atribuição de variáveis e entrada de dados\n",
    "\n",
    "n = float(input(f\"Digite o primeiro termo 'n' de uma progressão aritmética:\"))\n",
    "print(n)\n",
    "\n",
    "r = float(input(f\"\\nDigite a razão da progressão aritmética:\"))\n",
    "print(r)\n",
    "\n",
    "nesima = float(input(f\"\\nDigite a n-ésima posição na série do termo desejado:\"))\n",
    "print(nesima)\n",
    "\n",
    "\n",
    "### Processamento de dados\n",
    "\n",
    "# Equação de Termos da P.A. --> termo_desejado_a = (primeiro_termo_an + ((n-ésima_posição - 1)*razão) )\n",
    "\n",
    "termo = n + (nesima - 1)*r\n",
    "\n",
    "# Equação de Soma dos Termos da P.A. --> soma_pa = ((primeiro_termo_an + termo_desejado_a)*(n-ésima_posição))/2\n",
    "\n",
    "soma = ((n + termo)*(nesima))/2\n",
    "\n",
    "### Saída de dados\n",
    "\n",
    "print(\"\\nO\",nesima,\"º termo da progressão aritmética com termo inicial igual a\",n,\" e razão igual a\",r,\"é:\",termo,\".\\nA soma dos termos da P.A. até (incluso) o número\",termo,\"é igual a:\",soma,\".\")\n"
   ]
  },
  {
   "cell_type": "code",
   "execution_count": null,
   "id": "39c051c4",
   "metadata": {},
   "outputs": [],
   "source": []
  },
  {
   "cell_type": "code",
   "execution_count": null,
   "id": "0ad4898e",
   "metadata": {},
   "outputs": [],
   "source": []
  }
 ],
 "metadata": {
  "kernelspec": {
   "display_name": "Python 3 (ipykernel)",
   "language": "python",
   "name": "python3"
  },
  "language_info": {
   "codemirror_mode": {
    "name": "ipython",
    "version": 3
   },
   "file_extension": ".py",
   "mimetype": "text/x-python",
   "name": "python",
   "nbconvert_exporter": "python",
   "pygments_lexer": "ipython3",
   "version": "3.10.9"
  }
 },
 "nbformat": 4,
 "nbformat_minor": 5
}
